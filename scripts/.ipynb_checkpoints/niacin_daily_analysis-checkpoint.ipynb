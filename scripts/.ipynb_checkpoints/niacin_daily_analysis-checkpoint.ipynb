{
 "cells": [
  {
   "cell_type": "code",
   "execution_count": 3,
   "id": "111a1ba1",
   "metadata": {},
   "outputs": [],
   "source": [
    "from pathlib import Path\n",
    "import trompy as tp"
   ]
  },
  {
   "cell_type": "code",
   "execution_count": 5,
   "id": "184acd0c",
   "metadata": {},
   "outputs": [
    {
     "name": "stdout",
     "output_type": "stream",
     "text": [
      "File is excel file. Making csv metafile first\n"
     ]
    },
    {
     "ename": "PermissionError",
     "evalue": "[Errno 13] Permission denied: 'C:\\\\Users\\\\jmc010\\\\UiT Office 365\\\\O365-Pipette 2 - Documents\\\\People\\\\Marije\\\\measurements_b3_1.xlsx'",
     "output_type": "error",
     "traceback": [
      "\u001b[1;31m---------------------------------------------------------------------------\u001b[0m",
      "\u001b[1;31mPermissionError\u001b[0m                           Traceback (most recent call last)",
      "Cell \u001b[1;32mIn[5], line 4\u001b[0m\n\u001b[0;32m      2\u001b[0m PATH_TO_WORKBOOK \u001b[38;5;241m=\u001b[39m Path(\u001b[38;5;124m\"\u001b[39m\u001b[38;5;124mC:/Users/jmc010/UiT Office 365/O365-Pipette 2 - Documents/People/Marije\u001b[39m\u001b[38;5;124m\"\u001b[39m)\n\u001b[0;32m      3\u001b[0m EXCEL_WORKBOOK \u001b[38;5;241m=\u001b[39m \u001b[38;5;124m\"\u001b[39m\u001b[38;5;124mmeasurements_b3_1.xlsx\u001b[39m\u001b[38;5;124m\"\u001b[39m\n\u001b[1;32m----> 4\u001b[0m \u001b[43mtp\u001b[49m\u001b[38;5;241;43m.\u001b[39;49m\u001b[43mmetafilereader\u001b[49m\u001b[43m(\u001b[49m\u001b[38;5;28;43mstr\u001b[39;49m\u001b[43m(\u001b[49m\u001b[43mPATH_TO_WORKBOOK\u001b[49m\u001b[43m \u001b[49m\u001b[38;5;241;43m/\u001b[39;49m\u001b[43m \u001b[49m\u001b[43mEXCEL_WORKBOOK\u001b[49m\u001b[43m)\u001b[49m\u001b[43m,\u001b[49m\u001b[43m \u001b[49m\u001b[43msheetname\u001b[49m\u001b[38;5;241;43m=\u001b[39;49m\u001b[38;5;124;43m\"\u001b[39;49m\u001b[38;5;124;43mmetafile_niacin\u001b[39;49m\u001b[38;5;124;43m\"\u001b[39;49m\u001b[43m)\u001b[49m\n\u001b[0;32m      7\u001b[0m \u001b[38;5;66;03m# how about a google drive but that we save a csv file for every day\u001b[39;00m\n",
      "File \u001b[1;32m~\\Miniconda3\\lib\\site-packages\\trompy\\metafile_utils.py:69\u001b[0m, in \u001b[0;36mmetafilereader\u001b[1;34m(filename, sheetname)\u001b[0m\n\u001b[0;32m     66\u001b[0m \u001b[38;5;28;01mif\u001b[39;00m filename\u001b[38;5;241m.\u001b[39mlower()\u001b[38;5;241m.\u001b[39mendswith((\u001b[38;5;124m\"\u001b[39m\u001b[38;5;124m.xls\u001b[39m\u001b[38;5;124m\"\u001b[39m, \u001b[38;5;124m\"\u001b[39m\u001b[38;5;124mxlsx\u001b[39m\u001b[38;5;124m\"\u001b[39m)):\n\u001b[0;32m     67\u001b[0m     \u001b[38;5;28mprint\u001b[39m(\u001b[38;5;124m\"\u001b[39m\u001b[38;5;124mFile is excel file. Making csv metafile first\u001b[39m\u001b[38;5;124m\"\u001b[39m)\n\u001b[1;32m---> 69\u001b[0m     \u001b[38;5;28;01mwith\u001b[39;00m \u001b[43mxlrd\u001b[49m\u001b[38;5;241;43m.\u001b[39;49m\u001b[43mopen_workbook\u001b[49m\u001b[43m(\u001b[49m\u001b[43mfilename\u001b[49m\u001b[43m)\u001b[49m \u001b[38;5;28;01mas\u001b[39;00m wb:\n\u001b[0;32m     70\u001b[0m         sh \u001b[38;5;241m=\u001b[39m wb\u001b[38;5;241m.\u001b[39msheet_by_name(sheetname)  \u001b[38;5;66;03m# or wb.sheet_by_name('name_of_the_sheet_here')\u001b[39;00m\n\u001b[0;32m     72\u001b[0m         header \u001b[38;5;241m=\u001b[39m sh\u001b[38;5;241m.\u001b[39mrow_values(\u001b[38;5;241m0\u001b[39m)\n",
      "File \u001b[1;32m~\\Miniconda3\\lib\\site-packages\\xlrd\\__init__.py:166\u001b[0m, in \u001b[0;36mopen_workbook\u001b[1;34m(filename, logfile, verbosity, use_mmap, file_contents, encoding_override, formatting_info, on_demand, ragged_rows, ignore_workbook_corruption)\u001b[0m\n\u001b[0;32m     84\u001b[0m \u001b[38;5;28;01mdef\u001b[39;00m \u001b[38;5;21mopen_workbook\u001b[39m(filename\u001b[38;5;241m=\u001b[39m\u001b[38;5;28;01mNone\u001b[39;00m,\n\u001b[0;32m     85\u001b[0m                   logfile\u001b[38;5;241m=\u001b[39msys\u001b[38;5;241m.\u001b[39mstdout,\n\u001b[0;32m     86\u001b[0m                   verbosity\u001b[38;5;241m=\u001b[39m\u001b[38;5;241m0\u001b[39m,\n\u001b[1;32m   (...)\u001b[0m\n\u001b[0;32m     93\u001b[0m                   ignore_workbook_corruption\u001b[38;5;241m=\u001b[39m\u001b[38;5;28;01mFalse\u001b[39;00m\n\u001b[0;32m     94\u001b[0m                   ):\n\u001b[0;32m     95\u001b[0m \u001b[38;5;250m    \u001b[39m\u001b[38;5;124;03m\"\"\"\u001b[39;00m\n\u001b[0;32m     96\u001b[0m \u001b[38;5;124;03m    Open a spreadsheet file for data extraction.\u001b[39;00m\n\u001b[0;32m     97\u001b[0m \n\u001b[1;32m   (...)\u001b[0m\n\u001b[0;32m    163\u001b[0m \u001b[38;5;124;03m    :returns: An instance of the :class:`~xlrd.book.Book` class.\u001b[39;00m\n\u001b[0;32m    164\u001b[0m \u001b[38;5;124;03m    \"\"\"\u001b[39;00m\n\u001b[1;32m--> 166\u001b[0m     file_format \u001b[38;5;241m=\u001b[39m \u001b[43minspect_format\u001b[49m\u001b[43m(\u001b[49m\u001b[43mfilename\u001b[49m\u001b[43m,\u001b[49m\u001b[43m \u001b[49m\u001b[43mfile_contents\u001b[49m\u001b[43m)\u001b[49m\n\u001b[0;32m    167\u001b[0m     \u001b[38;5;66;03m# We have to let unknown file formats pass through here, as some ancient\u001b[39;00m\n\u001b[0;32m    168\u001b[0m     \u001b[38;5;66;03m# files that xlrd can parse don't start with the expected signature.\u001b[39;00m\n\u001b[0;32m    169\u001b[0m     \u001b[38;5;28;01mif\u001b[39;00m file_format \u001b[38;5;129;01mand\u001b[39;00m file_format \u001b[38;5;241m!=\u001b[39m \u001b[38;5;124m'\u001b[39m\u001b[38;5;124mxls\u001b[39m\u001b[38;5;124m'\u001b[39m:\n",
      "File \u001b[1;32m~\\Miniconda3\\lib\\site-packages\\xlrd\\__init__.py:60\u001b[0m, in \u001b[0;36minspect_format\u001b[1;34m(path, content)\u001b[0m\n\u001b[0;32m     58\u001b[0m \u001b[38;5;28;01melse\u001b[39;00m:\n\u001b[0;32m     59\u001b[0m     path \u001b[38;5;241m=\u001b[39m os\u001b[38;5;241m.\u001b[39mpath\u001b[38;5;241m.\u001b[39mexpanduser(path)\n\u001b[1;32m---> 60\u001b[0m     \u001b[38;5;28;01mwith\u001b[39;00m \u001b[38;5;28;43mopen\u001b[39;49m\u001b[43m(\u001b[49m\u001b[43mpath\u001b[49m\u001b[43m,\u001b[49m\u001b[43m \u001b[49m\u001b[38;5;124;43m\"\u001b[39;49m\u001b[38;5;124;43mrb\u001b[39;49m\u001b[38;5;124;43m\"\u001b[39;49m\u001b[43m)\u001b[49m \u001b[38;5;28;01mas\u001b[39;00m f:\n\u001b[0;32m     61\u001b[0m         peek \u001b[38;5;241m=\u001b[39m f\u001b[38;5;241m.\u001b[39mread(PEEK_SIZE)\n\u001b[0;32m     63\u001b[0m \u001b[38;5;28;01mif\u001b[39;00m peek\u001b[38;5;241m.\u001b[39mstartswith(XLS_SIGNATURE):\n",
      "\u001b[1;31mPermissionError\u001b[0m: [Errno 13] Permission denied: 'C:\\\\Users\\\\jmc010\\\\UiT Office 365\\\\O365-Pipette 2 - Documents\\\\People\\\\Marije\\\\measurements_b3_1.xlsx'"
     ]
    }
   ],
   "source": [
    "# read in csv file(s)\n",
    "PATH_TO_WORKBOOK = Path(\"C:/Users/jmc010/UiT Office 365/O365-Pipette 2 - Documents/People/Marije\")\n",
    "EXCEL_WORKBOOK = \"measurements_b3_1.xlsx\"\n",
    "tp.metafilereader(str(PATH_TO_WORKBOOK / EXCEL_WORKBOOK), sheetname=\"metafile_niacin\")\n",
    "\n",
    "\n",
    "# how about a google drive but that we save a csv file for every day"
   ]
  },
  {
   "cell_type": "code",
   "execution_count": null,
   "id": "49f4fea9",
   "metadata": {},
   "outputs": [],
   "source": [
    "# List of figures\n",
    "\n",
    "# body weight graphs\n",
    "# body weight of CON vs ND, male vs female\n",
    "# bar graph and daily line graph\n",
    "# most recent day change from last 3 days? (barscatter)\n",
    "\n",
    "\n",
    "# food intake\n",
    "\n",
    "\n",
    "\n",
    "# niacin concentration\n",
    "\n",
    "\n",
    "\n",
    "#individual mice showing all on one graph"
   ]
  }
 ],
 "metadata": {
  "kernelspec": {
   "display_name": "Python 3 (ipykernel)",
   "language": "python",
   "name": "python3"
  },
  "language_info": {
   "codemirror_mode": {
    "name": "ipython",
    "version": 3
   },
   "file_extension": ".py",
   "mimetype": "text/x-python",
   "name": "python",
   "nbconvert_exporter": "python",
   "pygments_lexer": "ipython3",
   "version": "3.9.16"
  }
 },
 "nbformat": 4,
 "nbformat_minor": 5
}
